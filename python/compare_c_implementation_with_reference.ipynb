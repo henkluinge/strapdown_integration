{
 "cells": [
  {
   "cell_type": "markdown",
   "id": "8c860f0f",
   "metadata": {},
   "source": [
    "# Strapdown integration accuracy of C implementation.\n",
    "\n",
    "### Refence strapdown test vector.\n",
    "tests\\simple_strapdown_reference.csv is generated using ```reference_strapdown_integration.ipynb```\n",
    "\n",
    "### C imlementation\n",
    "Running the ``process_strapdown_integration.exe`` generates the tests\\strapdown_computed_with_c.csv\n",
    "\n",
    "\n",
    "This notebook reads in the file and computes the accuracy of the C implementation."
   ]
  },
  {
   "cell_type": "code",
   "execution_count": null,
   "id": "e19d9889",
   "metadata": {},
   "outputs": [],
   "source": [
    "%load_ext autoreload\n",
    "%autoreload 2\n",
    "import math\n",
    "import numpy as np\n",
    "import pandas as pd\n",
    "import matplotlib.pyplot as plt\n",
    "from kinematics import synthetic_signals, algebra as kinalg"
   ]
  },
  {
   "cell_type": "markdown",
   "id": "4f20677e",
   "metadata": {},
   "source": [
    "Read file "
   ]
  },
  {
   "cell_type": "code",
   "execution_count": null,
   "id": "044440e2",
   "metadata": {},
   "outputs": [],
   "source": [
    "fpath_c = r'..\\tests\\strapdown_computed_with_c.csv'\n",
    "df_c = pd.read_csv(fpath_c)\n",
    "df_c.columns = [ch.strip() for ch in df_c.columns]\n",
    "df_c.head()"
   ]
  },
  {
   "cell_type": "code",
   "execution_count": null,
   "id": "a47ed7b9",
   "metadata": {},
   "outputs": [],
   "source": []
  },
  {
   "cell_type": "code",
   "execution_count": null,
   "id": "3d5cd51e",
   "metadata": {},
   "outputs": [],
   "source": [
    "q_ref_array = df_c[[ch for ch in df_c.columns if ch.startswith('q_ref')]]\n",
    "q_c_array = df_c[[ch for ch in df_c.columns if ch.startswith('q_ls')]]\n",
    "e_ref = kinalg.array_quaternion_to_euler(q_ref_array.values)\n",
    "e_c = kinalg.array_quaternion_to_euler(q_c_array.values)\n",
    "\n",
    "_, axs = plt.subplots(2, 1, figsize=(8, 5))\n",
    "axs[0].grid()\n",
    "axs[0].set_ylabel('Angle (deg)', loc='top')\t\n",
    "\n",
    "# axs[0].plot(e_ref, color='red', marker='.')\n",
    "# axs[0].plot(e_c, color='blue')\n",
    "axs[0].plot(q_ref_array, color='red', marker='.')\n",
    "axs[0].plot(q_c_array, color='blue')\n",
    "\n",
    "axs[1].grid()\n",
    "axs[1].plot(e_c-e_ref, color='blue', marker='.')\t\n",
    "axs[1].set_ylabel('Angle error (deg)', loc='top')\t\n",
    "axs[1].set_xlabel('Time (s)', loc='right')\t\n"
   ]
  },
  {
   "cell_type": "code",
   "execution_count": null,
   "id": "1aada9a5",
   "metadata": {},
   "outputs": [],
   "source": [
    "d_c = kinalg.array_get_quat_length(q_c_array.values)\n",
    "d_ref = kinalg.array_get_quat_length(q_ref_array.values)\n",
    "\n",
    "\n",
    "d_c, d_ref"
   ]
  }
 ],
 "metadata": {
  "kernelspec": {
   "display_name": "cad",
   "language": "python",
   "name": "python3"
  },
  "language_info": {
   "codemirror_mode": {
    "name": "ipython",
    "version": 3
   },
   "file_extension": ".py",
   "mimetype": "text/x-python",
   "name": "python",
   "nbconvert_exporter": "python",
   "pygments_lexer": "ipython3",
   "version": "3.12.3"
  }
 },
 "nbformat": 4,
 "nbformat_minor": 5
}
