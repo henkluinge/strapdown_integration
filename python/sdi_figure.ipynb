{
 "cells": [
  {
   "cell_type": "markdown",
   "metadata": {},
   "source": [
    "# Strapdown integration"
   ]
  },
  {
   "cell_type": "code",
   "execution_count": null,
   "metadata": {},
   "outputs": [],
   "source": [
    "import numpy as np \n",
    "import matplotlib.pyplot as plt"
   ]
  },
  {
   "cell_type": "code",
   "execution_count": null,
   "metadata": {},
   "outputs": [],
   "source": [
    "def draw_scale(ax, t_start_d, n_s, y_level, var_name='s', interval_length=1, axis_label=None):\n",
    "    \"\"\"Time inteval with ticks.\"\"\"\n",
    "    ax.plot([t_start_d, t_start_d+interval_length*n_s], [y_level, y_level], color='black', linewidth=1)\n",
    "    for i in range(0,n_s+1):\n",
    "        l = interval_length*i\n",
    "        ax.plot([t_start_d+l, t_start_d+l], [y_level-0.1, y_level+0.1], color='black', linewidth=1)\n",
    "        ax.text(t_start_d+l, y_level-0.2, f'${var_name}_{i}$', fontsize=12, ha='center')\n",
    "\n",
    "    ax.plot()\n",
    "    if axis_label:\n",
    "        ax.text(0, y_level, axis_label, ha='right', va='center')\n",
    "\n",
    "\n",
    "def draw_arrow_with_text(ax, height=0.1, t_start=1, t_end=2, label='$dq, dv$'):\n",
    "    \"\"\" Horizontal arrow to indicate some time interval.\"\"\"\n",
    "    ax.text(0.5*(t_start+t_end), height, label, fontsize=9, ha='center', va='bottom')\n",
    "    plt.annotate(\"\", xy=(t_start, height), xytext=(t_end, height), arrowprops=dict(arrowstyle=\"<->\", shrinkA=0.0, shrinkB=0.0) )\n",
    "\n",
    "\n",
    "def draw_signal(n_time, label='$y_{acc}$', **kwargs):\n",
    "    \"\"\"Draw accelerometer signal for illustration. The signal is constant between i-1 and i.\"\"\"\n",
    "    np.random.seed(seed=6) # Random is good, with a seed it's better\n",
    "    y_acc = 0.8*np.random.rand(n_time+1) +0.1\n",
    "    t = np.arange(n_time+1)\n",
    "    ax.step(t, y_acc, marker='.', **kwargs)\n",
    "    ax.text(n_time+0.2, y_acc[-1], label, fontsize=12, ha='left', va='center')\n",
    "    return"
   ]
  },
  {
   "cell_type": "code",
   "execution_count": null,
   "metadata": {},
   "outputs": [],
   "source": [
    "# Settings.\n",
    "n_time = 8\n",
    "n_s = 3\n",
    "n_d = 2\n",
    "t_start_d = 0\n",
    "y_level_s = 1.2\n",
    "y_level_d = 2\n",
    "\n",
    "\n",
    "\n",
    "# Blank figure.\n",
    "fig, ax = plt.subplots(figsize=(6, 4))\n",
    "ax.spines[['right', 'top', 'left', 'bottom']].set_visible(False)\n",
    "ax.axes.get_yaxis().set_visible(False)\n",
    "ax.axes.get_xaxis().set_visible(False)\n",
    "\n",
    "draw_scale(ax, 0, n_time, 0, var_name='t')   # Main time axis.\n",
    "draw_scale(ax, n_s, n_s, y_level_s, axis_label='samples \\n  in D')  # Time in ODR.\n",
    "draw_scale(ax, t_start_d, 2, y_level_d, interval_length=n_s, var_name='D', axis_label='ODR') # ODR interval.\n",
    "\n",
    "draw_arrow_with_text(ax, height=y_level_s + 0.2, t_start=t_start_d+n_s, t_end=t_start_d+n_s+1, label=r'$\\delta q_{2}, \\delta v_{2}$')\n",
    "draw_arrow_with_text(ax, height=y_level_d -0.32, t_start=t_start_d+n_s, t_end=t_start_d+2*n_s, label=r'$\\Delta q_{D2}, \\Delta v_{D2}$')\n",
    "\n",
    "for t in [t_start_d + i*n_s for i in range(n_d+1)]:\n",
    "    ax.axvline(t, linestyle='--', color='black', linewidth=1, alpha=0.5)\n",
    "\n",
    "\n",
    "draw_signal(n_time, label='$y_{acc}$', color='red')\n",
    "plt.savefig(\"./tex/images/strapdown_integration_timelines.png\", dpi=300, bbox_inches='tight')"
   ]
  }
 ],
 "metadata": {
  "kernelspec": {
   "display_name": "cad",
   "language": "python",
   "name": "python3"
  },
  "language_info": {
   "codemirror_mode": {
    "name": "ipython",
    "version": 3
   },
   "file_extension": ".py",
   "mimetype": "text/x-python",
   "name": "python",
   "nbconvert_exporter": "python",
   "pygments_lexer": "ipython3",
   "version": "3.12.3"
  }
 },
 "nbformat": 4,
 "nbformat_minor": 2
}
