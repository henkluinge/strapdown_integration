{
 "cells": [
  {
   "cell_type": "markdown",
   "metadata": {},
   "source": [
    "# Test simple strapdown integration\n",
    "\n",
    "Generate IMU signals and integrate back to movement.\n",
    "\n"
   ]
  },
  {
   "cell_type": "code",
   "execution_count": 1,
   "metadata": {},
   "outputs": [],
   "source": [
    "%load_ext autoreload\n",
    "%autoreload 2\n",
    "import math\n",
    "import numpy as np\n",
    "from kinematics import synthetic_signals, algebra as kinalg\n",
    "import matplotlib.pyplot as plt\n",
    "# import matplotlib\n",
    "from matplotlib.ticker import ScalarFormatter\n",
    "from plotting import plot_utils\n",
    "from kinematics.earth_gravity import earthgravity_vector\n",
    "from python import sdi_helper\n",
    "\n",
    "np.set_printoptions(precision=4)"
   ]
  },
  {
   "cell_type": "markdown",
   "metadata": {},
   "source": [
    "### Settings"
   ]
  },
  {
   "cell_type": "code",
   "execution_count": null,
   "metadata": {},
   "outputs": [],
   "source": [
    "movement = synthetic_signals.single_axis_rotation(9, angular_velocity=(1*np.pi/180, 0, 0), samplerate = 1)\n",
    "# movement = synthetic_signals.harmonic_vertical_movement(10, samplerate=20, frequency=1)\n",
    "samplerate = 800\n",
    "samplerate_odr = 20\n",
    "ns = int(samplerate/samplerate_odr)\n",
    "# movement = synthetic_signals.coning_motion(60, samplerate = samplerate, theta = np.pi/2, omega=2*np.pi*2)\n",
    "# synthetic_signals.plot_kinematic_signal(movement)\n",
    "\n",
    "RUN_ON_IMU = True"
   ]
  },
  {
   "cell_type": "code",
   "execution_count": 3,
   "metadata": {},
   "outputs": [
    {
     "data": {
      "text/plain": [
       "np.float64(0.017453292519943295)"
      ]
     },
     "execution_count": 3,
     "metadata": {},
     "output_type": "execute_result"
    },
    {
     "data": {
      "image/png": "[encoded data removed]",
      "text/plain": [
       "<Figure size 1000x400 with 1 Axes>"
      ]
     },
     "metadata": {},
     "output_type": "display_data"
    }
   ],
   "source": [
    "# Simulate IMU signals.\n",
    "g_l = earthgravity_vector(lat=51.22).T\n",
    "g_l = np.asarray( (0, 0, -9.81) )  # For testing, use constant gravity vector.\n",
    "y_imu = synthetic_signals.imu_signals_from_trajectory(movement)\n",
    "\n",
    "# Angular velocity plot\n",
    "synthetic_signals.plot_angular_velocity(movement, fpath='../tex/images/angular_velocity_coning.png')\n",
    "\n",
    "# Reference variables. Specifically q_ref_ls and  v_ref_l will be used as a reference for the IMU signals.\n",
    "omega, q_ref_ls, v_ref_l, t, T, nt = sdi_helper.extract_values_from_movement(movement)\n",
    "omega[0,0]"
   ]
  },
  {
   "cell_type": "markdown",
   "metadata": {},
   "source": [
    "## Regular case\n",
    "Using ideal sensors, strapdown integration of each sample, synthetic signal."
   ]
  },
  {
   "cell_type": "code",
   "execution_count": null,
   "metadata": {},
   "outputs": [
    {
     "data": {
      "text/plain": [
       "array([[1.    , 0.    , 0.    , 0.    ],\n",
       "       [1.    , 0.0087, 0.    , 0.    ],\n",
       "       [0.9998, 0.0175, 0.    , 0.    ],\n",
       "       [0.9997, 0.0262, 0.    , 0.    ],\n",
       "       [0.9994, 0.0349, 0.    , 0.    ],\n",
       "       [0.999 , 0.0436, 0.    , 0.    ],\n",
       "       [0.9986, 0.0523, 0.    , 0.    ],\n",
       "       [0.9981, 0.061 , 0.    , 0.    ],\n",
       "       [0.9976, 0.0698, 0.    , 0.    ]])"
      ]
     },
     "execution_count": 20,
     "metadata": {},
     "output_type": "execute_result"
    }
   ],
   "source": [
    "def strapdown_integration_onestep(y_gyr_i, y_acc_i, T, g_l, q_sdi_ls_i, v_l_i):\n",
    "    # Start at one because first sample is for initial pose.\n",
    "    # Orientation increment q_s(t-1)_s(t), assuming constant angular rate over the interval (t-1) to t.\n",
    "    # print('--- Step ', i, '---')\n",
    "    # print('q_sdi_before: ', q_sdi_ls_i)\n",
    "    dq_i = kinalg.axisangle_to_quaternion(T*y_gyr_i)   \n",
    "    # print('dq_i: ', dq_i)\n",
    "    # print(dq_i)\n",
    "    q_sdi_ls_i = kinalg.quaternion_multiplication(q_sdi_ls_i, dq_i)\n",
    "    # print('q_sdi_after: ', q_sdi_ls_i)\n",
    "\n",
    "    # Accelerometer integration\n",
    "    v_l_i = v_l_i + T*kinalg.vector_rotation(q_sdi_ls_i, y_acc_i) + T*g_l\n",
    "\n",
    "    return q_sdi_ls_i, v_l_i\n",
    "\n",
    "def strapdown_integration(y_gyr, y_acc, T, g_l, q_start=None, v_start=None):\n",
    "    \"\"\"Computes poses given an gyro/acc signal.\"\"\"\n",
    "\n",
    "    if q_start is None:\n",
    "        q_start = np.asarray((1,0,0,0))\n",
    "    if v_start is None:\n",
    "        v_start = np.asarray((0,0,0))\n",
    "\n",
    "    # Reserve memory for logs\n",
    "    q_sdi_ls = np.zeros((nt, 4))\n",
    "    v_sdi_l = np.zeros((nt, 3))\n",
    "\n",
    "    # Starting pose according to given initial conditions.\n",
    "    q_sdi_ls_i = q_start.copy()\n",
    "    v_l_i = v_start.copy()\n",
    "\n",
    "    # Add starting point to log.\n",
    "    q_sdi_ls[0, :] = q_sdi_ls_i\n",
    "    v_sdi_l[0, :] = v_l_i\n",
    "\n",
    "    # Start at one because first sample is for initial pose.\n",
    "    for i in range(1,nt):\n",
    "        q_sdi_ls_i, v_l_i = strapdown_integration_onestep(y_gyr[i,:], y_acc[i,:], T, g_l, q_sdi_ls_i, v_l_i)\n",
    "\n",
    "        # Add to log.\n",
    "        q_sdi_ls[i,:] = q_sdi_ls_i.copy()\n",
    "        v_sdi_l[i,:] = v_l_i.copy()\n",
    "\n",
    "    return q_sdi_ls, v_sdi_l\n",
    "\n",
    "if RUN_ON_IMU:\n",
    "    # If run on IMU, then the gravity component is corrected on the host. Furthermore,\n",
    "    # the starting positions are identity because every interval resets the pose.\n",
    "    # Use RUN_ON_IMU = True to generate a reference log for the C code.\n",
    "    g_l = np.asarray((0, 0, 0))\n",
    "    q_start = np.asarray((1, 0, 0, 0))\n",
    "    v_start = np.asarray((0, 0, 0))\n",
    "else:\n",
    "    # Traitional strapdown integration on the full trajectory. The initial pose\n",
    "    # is assumed to be known. E.g. from accelerometer and magnetometer readings.\n",
    "    # Use RUN_ON_IMU = False to compare with the simulated signal.\n",
    "    g_l = np.asarray( (0, 0, -9.81) )  # For testing, use constant gravity vector.\n",
    "    q_start = q_ref_ls[0,:]\n",
    "    v_start = v_ref_l[0,:]\n",
    "\n",
    "q_sdi_ls, v_sdi_l = strapdown_integration(y_imu['y_gyr'], y_imu['y_acc'], T, g_l, \\\n",
    "                                          q_start=q_start, v_start=v_start)\n",
    "sdi_helper.save_to_reference_log_simple_strapdown(t, y_imu, q_sdi_ls, v_ref_l)\n",
    "q_sdi_ls"
   ]
  },
  {
   "cell_type": "code",
   "execution_count": 18,
   "metadata": {},
   "outputs": [
    {
     "data": {
      "text/plain": [
       "array([ 0.  ,  0.  , -9.81])"
      ]
     },
     "execution_count": 18,
     "metadata": {},
     "output_type": "execute_result"
    }
   ],
   "source": [
    "g_l"
   ]
  },
  {
   "cell_type": "code",
   "execution_count": 6,
   "metadata": {},
   "outputs": [
    {
     "data": {
      "image/png": "[encoded data removed]",
      "text/plain": [
       "<Figure size 1000x300 with 2 Axes>"
      ]
     },
     "metadata": {},
     "output_type": "display_data"
    }
   ],
   "source": [
    "# Plot angle error.\n",
    "h_ref_ls = kinalg.array_quaternion_to_axisangle(q_ref_ls)\n",
    "h_sdi_ls = kinalg.array_quaternion_to_axisangle(q_sdi_ls)\n",
    "h_error = h_ref_ls - h_sdi_ls\n",
    "\n",
    "fig, axs = plt.subplots(2, 1, figsize=(10, 3), squeeze=False)\n",
    "axs = axs[:,0]\n",
    "axs[0].plot(t, h_ref_ls,  color='red', marker='none', label='Ref');\n",
    "axs[0].plot(t, h_sdi_ls,  color='k', marker='none', label='Ref');\n",
    "axs[0].set_ylabel('Angle (rad)');\n",
    "\n",
    "axs[1].plot(t, (180/np.pi)*h_error,  color='blue', marker='none', label='Error');\n",
    "axs[1].set_ylabel('Angle error (deg)');"
   ]
  },
  {
   "cell_type": "code",
   "execution_count": 7,
   "metadata": {},
   "outputs": [
    {
     "data": {
      "image/png": "[encoded data removed]",
      "text/plain": [
       "<Figure size 1000x300 with 1 Axes>"
      ]
     },
     "metadata": {},
     "output_type": "display_data"
    }
   ],
   "source": [
    "# Plot velocity (error).\n",
    "fig, axs = plt.subplots(1, 1, figsize=(10, 3), squeeze=False)\n",
    "axs = axs[:,0]\n",
    "axs[0].plot(t, v_sdi_l,  color='green', linestyle='--', label='sdi velocity');\n",
    "axs[0].plot(t, v_ref_l,  color='red', marker='.', linestyle='--', label='ref velocity');\n",
    "\n",
    "plot_utils.remove_matplotlib_multiple_legend(axs[0])"
   ]
  },
  {
   "cell_type": "markdown",
   "metadata": {},
   "source": [
    "# Strapdown integration in intervals.\n",
    "Output of the IMU is ODR [Hz], internal sampling rate is much higher (1/T). Small sections of data are integrated on IMU and concatenated at the host."
   ]
  },
  {
   "cell_type": "code",
   "execution_count": 8,
   "metadata": {},
   "outputs": [],
   "source": [
    "def _get_interval_lengths(nt, ns, verbose=True):\n",
    "    nt_used = nt - 1  # number of samples used in the integration (excluding t0).\n",
    "    n_intervals = int(np.ceil(nt_used/ns))\n",
    "    if verbose:\n",
    "        print(f'Total number of samples used {nt_used}, chopped into {n_intervals} intervals of {ns} samples.')\n",
    "    return nt_used, n_intervals\n",
    "\n",
    "def strapdown_integration_on_interval(y_gyr_section, y_acc_section, T):\n",
    "    \"\"\"Strapdown integration over an interval D, intented to run on the IMU. Returns a change in orientation \n",
    "    and velocity at the end of the interval. The change in velocity includes the gravitational component.\n",
    "\n",
    "    T is the samplerate with which y_gyr_section and y_acc_section are sampled, tyipcally hundreds of Hz.\n",
    "\n",
    "    dq is the change in orientation from the start to the end of the interval.\n",
    "    dv is the change in velocity from the start to the end of the interval, including the gravitational component. It's expressed\n",
    "    in the last orientation of the interval.\n",
    "    \"\"\"\n",
    "    # change in orientation and velocity resets at beginning of interval.\n",
    "    dq, dv = np.asarray([1, 0, 0, 0]), np.asarray([0,0,0])\n",
    "    \n",
    "    for y_gyr_i, y_acc_i in zip(y_gyr_section, y_acc_section):\n",
    "        dq = kinalg.quaternion_multiplication(dq, kinalg.axisangle_to_quaternion(T*y_gyr_i))  # dq_s0_si\n",
    "        dv = dv + T*kinalg.quaternion_to_rotationmatrix(dq)@y_acc_i                           # dv between si and s0, expressed in s0.\n",
    "\n",
    "    # Per definition, quantities are expressed in the last position of the interval.\n",
    "    dv = kinalg.quaternion_to_rotationmatrix(dq).T@dv    \n",
    "    return dq, dv\n",
    "\n",
    "\n",
    "def strapdown_integration_in_intervals(y_gyr, y_acc, T, g_l, q_start, v_start, ns=3, verbose=False):\n",
    "    \"\"\"\n",
    "    Mechanization on the host: concatenate the IMU output (dq, dv) and correct for the gravitational acceleration.\n",
    "    ns is the number of samlpes within and ODR interval.\n",
    "    \"\"\"\n",
    "    nt_used, n_intervals = _get_interval_lengths(y_gyr.shape[0], ns, verbose=verbose)\n",
    "\n",
    "    # Init logs. First element of log is the starting position.\n",
    "    t_odr = np.zeros(n_intervals+1) # Times in which the orientation and velocity are available to the user.\n",
    "    q_log = np.zeros((n_intervals+1, 4))\n",
    "    v_log = np.zeros((n_intervals+1, 3))\n",
    "\n",
    "    # Starting orientation and velocity.\n",
    "    q_LS_j, v_j = q_start, v_start # Initial orientation and velocity.\n",
    "    q_log[0, :] = q_LS_j.copy()\n",
    "    v_log[0, :] = v_j.copy()\n",
    "\n",
    "    for j_interval in range(1, n_intervals+1):\n",
    "        i_start = (j_interval-1)*ns + 1\n",
    "        i_end = min(nt_used+1, j_interval*ns+1) # i_end is in the python range, so it is not included.\n",
    "        t_odr[j_interval] = t[i_end-1].copy()\n",
    "\n",
    "        # This part is computed on the IMU device.\n",
    "        dq, dv = strapdown_integration_on_interval(y_gyr[i_start:i_end], y_acc[i_start:i_end], T)\n",
    "\n",
    "        # Concatenate ODR intervals. This is generally done where the data is used in an drift-reducing algorithm.\n",
    "        q_LS_j = kinalg.quaternion_multiplication(q_LS_j, dq) # Orientation at ODR intervals.\n",
    "        n_samples_in_interval = i_end - i_start\n",
    "        v_j = v_j + kinalg.quaternion_to_rotationmatrix(q_LS_j)@dv  + n_samples_in_interval*T*g_l      # Velocity at ODR intervals, in L coordinates\n",
    "\n",
    "        # Store in log\n",
    "        q_log[j_interval, :] = q_LS_j.copy()\n",
    "        v_log[j_interval, :] = v_j.copy()\n",
    "    return q_log, v_log, t_odr\n",
    "\n",
    "# Run on our example data.\n",
    "q_log, v_log, t_odr = strapdown_integration_in_intervals(y_imu['y_gyr'], y_imu['y_acc'], T, g_l, q_ref_ls[0,:], v_ref_l[0,:], ns=ns)"
   ]
  },
  {
   "cell_type": "code",
   "execution_count": null,
   "metadata": {},
   "outputs": [],
   "source": [
    "fig, axs = plt.subplots(2, 1, figsize=(12, 5), squeeze=False)\n",
    "axs = axs[:,0]\n",
    "axs[0].set_ylabel('Orientation')\n",
    "axs[0].plot(t, q_ref_ls,  color='red', marker='none', label='Ref');\n",
    "axs[0].plot(t_odr, q_log,  color='blue', marker='none', linestyle='--', label='ODR');\n",
    "axs[0].plot(t, q_sdi_ls,  color='green', marker='.', linestyle='--', label='sdi');\n",
    "\n",
    "axs[1].set_ylabel('Velocity')\n",
    "axs[1].plot(t, v_ref_l,  color='red', marker='.', label='Ref');\n",
    "axs[1].plot(t_odr, v_log,  color='blue', marker='none', linestyle='--', label='ODR');\n",
    "axs[1].plot(t, v_sdi_l,  color='green', marker='.', linestyle='--', label='sdi');\n",
    "\n",
    "plot_utils.remove_matplotlib_multiple_legend(axs[0])\n",
    "fig.tight_layout()"
   ]
  },
  {
   "cell_type": "markdown",
   "metadata": {},
   "source": [
    "## What if the on-IMU part is just averaged?\n",
    "To see the benefit of the above implementation we compare two cases:\n",
    "1. The strapdown integration is implemented on the IMU firmware as above: fast SDI loop with lower frequency output data rate. The lower-frequency samples are correctly concatenated at the host.\n",
    "2. Same as above, but on the imu the change in pose is not computed by fast SDI, but by taking an average over the samples. This simulates the use of a low-pass filter after sampling."
   ]
  },
  {
   "cell_type": "code",
   "execution_count": null,
   "metadata": {},
   "outputs": [],
   "source": [
    "def strapdown_integration_in_averaged_intervals(y_gyr, y_acc, T, g_l, q_start, v_start, ns=3, verbose=False):\n",
    "    \"\"\"\n",
    "    Modification of strapdown_integration_in_intervals. The on-imu integration is just an average, to simulate a low-pass anti-aliasing filter. This \n",
    "    does not account for non commutativity.\n",
    "    ns is the number of samlpes within and ODR interval.\n",
    "    \"\"\"\n",
    "    nt_used, n_intervals = _get_interval_lengths(y_gyr.shape[0], ns, verbose=verbose)\n",
    "\n",
    "    # Init logs. First element of log is the starting position.\n",
    "    t_odr = np.zeros(n_intervals+1) # Times in which the orientation and velocity are available to the user.\n",
    "    q_log = np.zeros((n_intervals+1, 4))\n",
    "    v_log = np.zeros((n_intervals+1, 3))\n",
    "\n",
    "    # Starting orientation and velocity.\n",
    "    q_LS_j, v_j = q_start, v_start # Initial orientation and velocity.\n",
    "    q_log[0, :] = q_LS_j.copy()\n",
    "    v_log[0, :] = v_j.copy()\n",
    "\n",
    "    for j_interval in range(1, n_intervals+1):\n",
    "        i_start = (j_interval-1)*ns + 1\n",
    "        i_end = min(nt_used+1, j_interval*ns+1) # i_end is in the python range, so it is not included.\n",
    "        t_odr[j_interval] = t[i_end-1].copy()\n",
    "\n",
    "        # This part is computed on the IMU device.\n",
    "        # dq, dv = strapdown_integration_on_interval(y_gyr[i_start:i_end], y_acc[i_start:i_end], T)\n",
    "        n_samples_in_interval = i_end - i_start\n",
    "        Todr = n_samples_in_interval*T\n",
    "        dq = kinalg.axisangle_to_quaternion(Todr*y_gyr[i_start:i_end].mean(axis=0))\n",
    "        dv = Todr*y_acc[i_start:i_end].mean(axis=0)\n",
    "\n",
    "        # Concatenate ODR intervals. This is generally done where the data is used in an drift-reducing algorithm.\n",
    "        q_LS_j = kinalg.quaternion_multiplication(q_LS_j, dq) # Orientation at ODR intervals.\n",
    "        v_j = v_j + kinalg.quaternion_to_rotationmatrix(q_LS_j)@dv  + n_samples_in_interval*T*g_l      # Velocity at ODR intervals, in L coordinates\n",
    "\n",
    "        # Store in log\n",
    "        q_log[j_interval, :] = q_LS_j.copy()\n",
    "        v_log[j_interval, :] = v_j.copy()\n",
    "    return q_log, v_log, t_odr\n",
    "\n",
    "q_avg, v_avg, t_avg = strapdown_integration_in_averaged_intervals(y_imu['y_gyr'], y_imu['y_acc'], T, g_l, q_ref_ls[0,:], v_ref_l[0,:], ns=ns)"
   ]
  },
  {
   "cell_type": "code",
   "execution_count": null,
   "metadata": {},
   "outputs": [],
   "source": [
    "# Plots to compare average vs proper SDI.\n",
    "fig, axs = plt.subplots(2, 1, figsize=(12, 5), squeeze=False)\n",
    "axs = axs[:,0]\n",
    "axs[0].set_ylabel('Orientation')\n",
    "axs[0].plot(t, q_ref_ls,  color='red', marker='none', label='Ref');\n",
    "axs[0].plot(t_odr, q_log,  color='blue', marker='none', linestyle='--', label='ODR');\n",
    "axs[0].plot(t, q_sdi_ls,  color='green', marker='.', linestyle='--', label='sdi');\n",
    "axs[0].plot(t_avg, q_avg,  color='grey', marker='.', linestyle='-', label='AVG');\n",
    "\n",
    "axs[1].set_ylabel('Velocity')\n",
    "# axs[1].plot(t, v_ref_l,  color='red', marker='.', label='Ref');\n",
    "axs[1].plot(t_odr, v_log,  color='blue', marker='none', linestyle='--', label='ODR');\n",
    "axs[1].plot(t_avg, v_avg,  color='grey', marker='.', linestyle='--', label='ODR');\n",
    "axs[1].plot(t, v_sdi_l,  color='green', marker='.', linestyle='--', label='sdi');\n",
    "\n",
    "plot_utils.remove_matplotlib_multiple_legend(axs[0])\n",
    "fig.tight_layout()"
   ]
  },
  {
   "cell_type": "markdown",
   "metadata": {},
   "source": [
    "### Helper function\n",
    "to compute orientation errors the reference log is downsampled."
   ]
  },
  {
   "cell_type": "code",
   "execution_count": null,
   "metadata": {},
   "outputs": [],
   "source": [
    "q_ref_ls_odr = sdi_helper.sample_to_odr(q_ref_ls, t, t_odr)"
   ]
  },
  {
   "cell_type": "markdown",
   "metadata": {},
   "source": [
    "### Integration drift\n",
    "illustration"
   ]
  },
  {
   "cell_type": "code",
   "execution_count": null,
   "metadata": {},
   "outputs": [],
   "source": [
    "# Orientation errors.\n",
    "e_odr_err = np.linalg.norm((180/np.pi)*kinalg.array_quaternion_to_axisangle(kinalg.array_quaternion_mult(kinalg.array_quaternion_inverse(q_log), q_ref_ls_odr)), axis=1)\n",
    "e_avg_err = np.linalg.norm((180/np.pi)*kinalg.array_quaternion_to_axisangle(kinalg.array_quaternion_mult(kinalg.array_quaternion_inverse(q_avg), q_ref_ls_odr)), axis=1)\n",
    "\n",
    "_, axs = plt.subplots(1, 1, figsize=(10, 3), squeeze=False)\n",
    "ax = axs[0,0]\n",
    "ax.plot(t_odr, e_odr_err, color='blue', marker='.', label='ODR');\n",
    "ax.plot(t_odr, e_avg_err, color='grey', marker='.', label='Avg.');\n",
    "ax.set_xlabel('Time [s]', loc='right')\n",
    "ax.set_ylabel('Orientation error [deg]', loc='top')\t\n",
    "ax.grid()\n",
    "ax.legend()\n",
    "print(ns)\n",
    "plt.savefig('../tex/images/typical_integration_drift.png', dpi=300, bbox_inches='tight')\n"
   ]
  },
  {
   "cell_type": "markdown",
   "metadata": {},
   "source": [
    "### Integration drift versus ODR."
   ]
  },
  {
   "cell_type": "code",
   "execution_count": null,
   "metadata": {},
   "outputs": [],
   "source": [
    "def _get_error(q_ref_ls, q_avg, t, t_avg):\n",
    "    q_ref_ls_odr = sdi_helper.sample_to_odr(q_ref_ls, t, t_avg)\n",
    "    q_error_avg = kinalg.array_quaternion_mult(q_ref_ls_odr, kinalg.array_quaternion_inverse(q_avg))\n",
    "    ei_avg = kinalg.array_quaternion_to_axisangle(q_error_avg)\n",
    "    ei_avg = np.max(np.linalg.norm(ei_avg, axis=1, ord=2))*180/np.pi # Convert to degrees.\n",
    "    return ei_avg\n",
    "\n",
    "duration = 4 # seconds. Should contain several periods of movement, yet not come close to 180 degrees maximum error.\n",
    "samplerate = 800 # Hz, on IMU.\n",
    "samplerates_odr = [10, 15, 20, 30, 40, 60,  80, 100, 200] # Hz\n",
    "# samplerates_odr = [10, 15, 100, 200] # Hz\n",
    "\n",
    "# Allocate memory for errors.\n",
    "e_avg = np.zeros((len(samplerates_odr), 2))  # To store the errors\n",
    "e_odr = np.zeros((len(samplerates_odr), 2))  # To store the errors\n",
    "\n",
    "# Create coning movement\n",
    "n_samples = duration * samplerate\n",
    "movement = synthetic_signals.coning_motion(n_samples, samplerate, theta = np.pi/2, omega=1*np.pi*2)\n",
    "omega, q_ref_ls, v_ref_l, t, T, nt = sdi_helper.extract_values_from_movement(movement)\n",
    "\n",
    "# Process for different ODR frequencies.\n",
    "for i, samplerate_odr in enumerate(samplerates_odr):\n",
    "\n",
    "    y_imu = synthetic_signals.imu_signals_from_trajectory(movement)\n",
    "    ns = int(samplerate/samplerate_odr)\n",
    "    q_avg, v_avg, t_avg = strapdown_integration_in_averaged_intervals(y_imu['y_gyr'], y_imu['y_acc'], T, g_l, q_ref_ls[0,:], v_ref_l[0,:], ns=ns)\n",
    "    q_odr, v_odr, t_odr = strapdown_integration_in_intervals(y_imu['y_gyr'], y_imu['y_acc'], T, g_l, q_ref_ls[0,:], v_ref_l[0,:], ns=ns)\n",
    "\n",
    "    # Error per second.\n",
    "    e_avg[i, 0] = _get_error(q_ref_ls, q_avg, t, t_avg)/duration\n",
    "    e_odr[i, 0] = _get_error(q_ref_ls, q_odr, t, t_odr)/duration\n",
    "\n",
    "    e_avg[i, 1] = np.max(np.linalg.norm(v_avg -  sdi_helper.sample_to_odr(v_ref_l, t, t_avg), axis=1))/duration\n",
    "    e_odr[i, 1] = np.max(np.linalg.norm(v_odr -  sdi_helper.sample_to_odr(v_ref_l, t, t_avg), axis=1))/duration\n",
    "\n",
    "# Plot errors versus ODR frequency.\n",
    "_, axs = plt.subplots(2, 1, figsize=(8, 5), squeeze=False)\n",
    "ax = axs[0,0]\n",
    "ax.plot(samplerates_odr, e_avg[:, 0], color='mediumslateblue', marker='o', label='Average within ODR interval')\n",
    "ax.plot(samplerates_odr, e_odr[:, 0], color='darkmagenta', marker='o', linestyle='--', label='SDI within ODR interval')\n",
    "# ax.set_ylim(0, 1.2*e_avg.max())\n",
    "ax.set_ylabel('Integration drift (°/s)', loc='top')\n",
    "ax.grid()\n",
    "ax.set_xscale('log')\n",
    "# ax.set_yscale('log')\n",
    "\n",
    "ax.legend()\n",
    "ax.set_xticks(samplerates_odr)\n",
    "ax.get_xaxis().set_major_formatter(ScalarFormatter())\n",
    "\n",
    "ax = axs[1,0]\n",
    "ax.plot(samplerates_odr, e_odr[:,1], color='darkmagenta', marker='o', linestyle='-', label='SDI velocity error')\n",
    "ax.plot(samplerates_odr, e_avg[:,1], color='mediumslateblue', marker='o', linestyle='--', label='Average within ODR interval')\n",
    "\n",
    "ax.grid()\n",
    "ax.set_xscale('log')\n",
    "# ax.set_yscale('log')\n",
    "\n",
    "ax.legend()\n",
    "ax.set_xticks(samplerates_odr)\n",
    "ax.get_xaxis().set_major_formatter(ScalarFormatter())\n",
    "ax.set_xlabel('ODR (Hz)', loc='right')\n",
    "ax.set_ylabel('velocity drift [m/s/s]', loc='top')\n",
    "\n",
    "plt.axis('tight')\n",
    "plt.savefig('../tex/images/drift_versus_odr_frequency.png', dpi=300, bbox_inches='tight')\n"
   ]
  }
 ],
 "metadata": {
  "kernelspec": {
   "display_name": "robot",
   "language": "python",
   "name": "python3"
  },
  "language_info": {
   "codemirror_mode": {
    "name": "ipython",
    "version": 3
   },
   "file_extension": ".py",
   "mimetype": "text/x-python",
   "name": "python",
   "nbconvert_exporter": "python",
   "pygments_lexer": "ipython3",
   "version": "3.13.5"
  }
 },
 "nbformat": 4,
 "nbformat_minor": 2
}
